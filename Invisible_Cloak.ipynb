{
 "cells": [
  {
   "cell_type": "code",
   "execution_count": 36,
   "metadata": {},
   "outputs": [],
   "source": [
    "import cv2\n",
    "\n",
    "cap = cv2.VideoCapture(0)\n",
    "\n",
    "for i in range(30):\n",
    "    ret,visible = cap.read()                                        #background \n",
    "\n",
    "visible = np.flip(visible,1)\n",
    "    \n",
    "while(cap.isOpened()):\n",
    "    \n",
    "    ret, frame = cap.read()\n",
    "    \n",
    "    frame = np.flip(frame,1)                                        #flipping is optional\n",
    "    \n",
    "    hsv = cv2.cvtColor(frame,cv2.COLOR_BGR2HSV)                     # HSV because easy to detect colors \n",
    "    \n",
    "    mask = cv2.inRange(hsv,(0,5,50),(179,50,255))                   # detect gray color\n",
    "    \n",
    "    #noise removal and smoothing are not optional but preferred\n",
    "    kernel = np.ones((5,5),np.uint8)\n",
    "    mask = cv2.erode(mask,kernel,iterations = 2)                    # removing noise \n",
    "    mask = cv2.dilate(mask,np.ones((3,3),np.uint8),iterations = 2)  # compensating the removal of noise - basically smooothing\n",
    "    mask_inv = cv2.bitwise_not(mask)\n",
    "    \n",
    "    \n",
    "    out = cv2.bitwise_and(visible, visible, mask=mask)              # in the background everything goes black except specified color\n",
    "    out1 = cv2.bitwise_and(frame, frame, mask=mask_inv)             # front image is visible except specified color\n",
    "    out2 = cv2.addWeighted(out,1,out1,1,0)                          # blending current frame with background shot\n",
    "    \n",
    "    \n",
    "    cv2.imshow('frame',out2)\n",
    "    #print(out)\n",
    "    \n",
    "\n",
    "    if cv2.waitKey(10) & 0xFF == 27:\n",
    "        break\n",
    "        \n",
    "cap.release()\n",
    "cv2.destroyAllWindows()\n",
    "    \n",
    "    "
   ]
  },
  {
   "cell_type": "code",
   "execution_count": null,
   "metadata": {},
   "outputs": [],
   "source": []
  }
 ],
 "metadata": {
  "kernelspec": {
   "display_name": "Python 3",
   "language": "python",
   "name": "python3"
  },
  "language_info": {
   "codemirror_mode": {
    "name": "ipython",
    "version": 3
   },
   "file_extension": ".py",
   "mimetype": "text/x-python",
   "name": "python",
   "nbconvert_exporter": "python",
   "pygments_lexer": "ipython3",
   "version": "3.6.6"
  }
 },
 "nbformat": 4,
 "nbformat_minor": 2
}
